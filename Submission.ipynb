{
 "cells": [
  {
   "cell_type": "markdown",
   "id": "f56137dd",
   "metadata": {},
   "source": [
    "> <div>\n",
    "<img src=\"https://logos-world.net/wp-content/uploads/2020/11/Shopify-Logo.png\", \n",
    "     alt=\"Making commerce better for everyone\", width=\"300\"align=\"left\"/>\n",
    "</div>"
   ]
  },
  {
   "cell_type": "markdown",
   "id": "6d852d45",
   "metadata": {},
   "source": [
    "> # **Company Name:** Shopify \n",
    "> **Project:**     Winter 2022 Data Science Intern Challenge<br>\n",
    "> **Applicant:**    Muftawo Omar<br>\n",
    "> **Email:**    muftawoomar@gmail.com <br> **LinkedIn:** [Muftawo](https://www.linkedin.com/in/muftawo-omar-b34701132/)<br>\n",
    "> **Github:**   [Muftawo](https://github.com/Muftawo/)<br>\n",
    "\n"
   ]
  },
  {
   "cell_type": "markdown",
   "id": "49b4cac7",
   "metadata": {},
   "source": [
    "> ## Table of Contents\n",
    "\n",
    "> * [Introduction](#In)\n",
    "> * [Challenge 1](#ch1)\n",
    "    * [Answers](#ans)\n",
    "    * [Solution](#sl1)   \n",
    "> * [Challenge 2](#ch2)\n",
    "    * [Question A](#qa)\n",
    "    * [Question B](#qb)\n",
    "    * [Question C](#qc)\n",
    "  "
   ]
  },
  {
   "cell_type": "markdown",
   "id": "6f8524d2",
   "metadata": {},
   "source": [
    "<div id=\"In\"></div>\n",
    "\n",
    "> ## Introduction\n",
    "\n",
    "> As a requirement for  the [Winter 2022 Data Science Intern (Remote)](https://www.shopify.com/careers/data-science-intern-remote-winter-2022-4475e105) application. I solve the [challenge questions](https://docs.google.com/document/d/13VCtoyto9X1PZ74nPI4ZEDdb8hF8LAlcmLH1ZTHxKxE/edit#heading=h.5j27tl9uwcuc) below. In this notebook I employ my data sceince skills to explain each challenge and explore data to return  the right answer\n"
   ]
  },
  {
   "cell_type": "markdown",
   "id": "1714dda0",
   "metadata": {},
   "source": [
    "<div id=\"ch1\"></div>\n",
    "\n",
    "# Challenge 1\n",
    "\n",
    "<div id=\"ans\"></div>\n",
    "\n",
    "### Anwsers\n",
    "> **Questions A** <br>\n",
    "A better way to find the average order value is to obtain the order amount per a shoe and find the median selling amount at each store.\n",
    "\n",
    "> **Questions B** <br>\n",
    "The metric I will report is the median amount per shoe\n",
    "\n",
    "> **Questions C** <br>\n",
    "The median price per shoe is $153.0\n",
    "\n",
    "\n"
   ]
  },
  {
   "cell_type": "markdown",
   "id": "e2817b9d",
   "metadata": {},
   "source": [
    "<div id=\"sl1\"></div>\n",
    "\n",
    "### Solution\n",
    "> **Obeject**<br>\n",
    "What is the better average order value (AVO) metric to report for 100 sneaker shops?  \n",
    "\n",
    "> To identify what the appropirate metric to report is, we need to understand our data and know why our naively calculated AOV is $3145.13. \n",
    "What is contributing to this figure?\n",
    "\n",
    "\n",
    "> **KEY ASSUMPTIONS ABOUT DATA**\n",
    "> 1. Data represents orders within a 30 day window\n",
    "> 2. We have exactly 100 sneaker shops\n",
    "> 3. Each shop sells only one model of shoe\n"
   ]
  },
  {
   "cell_type": "code",
   "execution_count": 48,
   "id": "41e8a359",
   "metadata": {},
   "outputs": [],
   "source": [
    "#import libaries for data exploration \n",
    "import pandas as pd \n",
    "import matplotlib.pyplot as plt \n",
    "import seaborn as sns\n"
   ]
  },
  {
   "cell_type": "code",
   "execution_count": 2,
   "id": "834c974d",
   "metadata": {},
   "outputs": [],
   "source": [
    "# load data\n",
    "df = pd.read_csv('2019 Winter Data Science Intern Challenge Data Set - Sheet1.csv')"
   ]
  },
  {
   "cell_type": "markdown",
   "id": "d4c53a10",
   "metadata": {},
   "source": [
    "**Data Quality Assesment**<br>\n",
    "In this process I check if there are any missing values or duplicated entiries. And luckily there is none"
   ]
  },
  {
   "cell_type": "code",
   "execution_count": 26,
   "id": "6873d408",
   "metadata": {},
   "outputs": [
    {
     "data": {
      "text/plain": [
       "0"
      ]
     },
     "execution_count": 26,
     "metadata": {},
     "output_type": "execute_result"
    }
   ],
   "source": [
    "# check for duplications \n",
    "df.duplicated().sum()"
   ]
  },
  {
   "cell_type": "code",
   "execution_count": 27,
   "id": "ba7f9eb4",
   "metadata": {},
   "outputs": [
    {
     "data": {
      "text/plain": [
       "False"
      ]
     },
     "execution_count": 27,
     "metadata": {},
     "output_type": "execute_result"
    }
   ],
   "source": [
    "# missing values \n",
    "df.isnull().values.any()"
   ]
  },
  {
   "cell_type": "code",
   "execution_count": 3,
   "id": "5f8d1757",
   "metadata": {},
   "outputs": [
    {
     "data": {
      "text/html": [
       "<div>\n",
       "<style scoped>\n",
       "    .dataframe tbody tr th:only-of-type {\n",
       "        vertical-align: middle;\n",
       "    }\n",
       "\n",
       "    .dataframe tbody tr th {\n",
       "        vertical-align: top;\n",
       "    }\n",
       "\n",
       "    .dataframe thead th {\n",
       "        text-align: right;\n",
       "    }\n",
       "</style>\n",
       "<table border=\"1\" class=\"dataframe\">\n",
       "  <thead>\n",
       "    <tr style=\"text-align: right;\">\n",
       "      <th></th>\n",
       "      <th>order_id</th>\n",
       "      <th>shop_id</th>\n",
       "      <th>user_id</th>\n",
       "      <th>order_amount</th>\n",
       "      <th>total_items</th>\n",
       "      <th>payment_method</th>\n",
       "      <th>created_at</th>\n",
       "    </tr>\n",
       "  </thead>\n",
       "  <tbody>\n",
       "    <tr>\n",
       "      <th>0</th>\n",
       "      <td>1</td>\n",
       "      <td>53</td>\n",
       "      <td>746</td>\n",
       "      <td>224</td>\n",
       "      <td>2</td>\n",
       "      <td>cash</td>\n",
       "      <td>2017-03-13 12:36:56</td>\n",
       "    </tr>\n",
       "    <tr>\n",
       "      <th>1</th>\n",
       "      <td>2</td>\n",
       "      <td>92</td>\n",
       "      <td>925</td>\n",
       "      <td>90</td>\n",
       "      <td>1</td>\n",
       "      <td>cash</td>\n",
       "      <td>2017-03-03 17:38:52</td>\n",
       "    </tr>\n",
       "  </tbody>\n",
       "</table>\n",
       "</div>"
      ],
      "text/plain": [
       "   order_id  shop_id  user_id  order_amount  total_items payment_method  \\\n",
       "0         1       53      746           224            2           cash   \n",
       "1         2       92      925            90            1           cash   \n",
       "\n",
       "            created_at  \n",
       "0  2017-03-13 12:36:56  \n",
       "1  2017-03-03 17:38:52  "
      ]
     },
     "execution_count": 3,
     "metadata": {},
     "output_type": "execute_result"
    }
   ],
   "source": [
    "#data sample\n",
    "df.head(n=2)"
   ]
  },
  {
   "cell_type": "markdown",
   "id": "31a9ac5c",
   "metadata": {},
   "source": [
    "**Some Basic Data Exploration** <br>\n",
    "> Lets have a look at the general description of our dataset.Here, I seek to  confirm if the AOV is indeed the reported amount. "
   ]
  },
  {
   "cell_type": "code",
   "execution_count": 4,
   "id": "eabecb0a",
   "metadata": {},
   "outputs": [
    {
     "data": {
      "text/html": [
       "<div>\n",
       "<style scoped>\n",
       "    .dataframe tbody tr th:only-of-type {\n",
       "        vertical-align: middle;\n",
       "    }\n",
       "\n",
       "    .dataframe tbody tr th {\n",
       "        vertical-align: top;\n",
       "    }\n",
       "\n",
       "    .dataframe thead th {\n",
       "        text-align: right;\n",
       "    }\n",
       "</style>\n",
       "<table border=\"1\" class=\"dataframe\">\n",
       "  <thead>\n",
       "    <tr style=\"text-align: right;\">\n",
       "      <th></th>\n",
       "      <th>count</th>\n",
       "      <th>mean</th>\n",
       "      <th>std</th>\n",
       "      <th>min</th>\n",
       "      <th>25%</th>\n",
       "      <th>50%</th>\n",
       "      <th>75%</th>\n",
       "      <th>max</th>\n",
       "    </tr>\n",
       "  </thead>\n",
       "  <tbody>\n",
       "    <tr>\n",
       "      <th>order_id</th>\n",
       "      <td>5000.0</td>\n",
       "      <td>2500.5000</td>\n",
       "      <td>1443.520003</td>\n",
       "      <td>1.0</td>\n",
       "      <td>1250.75</td>\n",
       "      <td>2500.5</td>\n",
       "      <td>3750.25</td>\n",
       "      <td>5000.0</td>\n",
       "    </tr>\n",
       "    <tr>\n",
       "      <th>shop_id</th>\n",
       "      <td>5000.0</td>\n",
       "      <td>50.0788</td>\n",
       "      <td>29.006118</td>\n",
       "      <td>1.0</td>\n",
       "      <td>24.00</td>\n",
       "      <td>50.0</td>\n",
       "      <td>75.00</td>\n",
       "      <td>100.0</td>\n",
       "    </tr>\n",
       "    <tr>\n",
       "      <th>user_id</th>\n",
       "      <td>5000.0</td>\n",
       "      <td>849.0924</td>\n",
       "      <td>87.798982</td>\n",
       "      <td>607.0</td>\n",
       "      <td>775.00</td>\n",
       "      <td>849.0</td>\n",
       "      <td>925.00</td>\n",
       "      <td>999.0</td>\n",
       "    </tr>\n",
       "    <tr>\n",
       "      <th>order_amount</th>\n",
       "      <td>5000.0</td>\n",
       "      <td>3145.1280</td>\n",
       "      <td>41282.539349</td>\n",
       "      <td>90.0</td>\n",
       "      <td>163.00</td>\n",
       "      <td>284.0</td>\n",
       "      <td>390.00</td>\n",
       "      <td>704000.0</td>\n",
       "    </tr>\n",
       "    <tr>\n",
       "      <th>total_items</th>\n",
       "      <td>5000.0</td>\n",
       "      <td>8.7872</td>\n",
       "      <td>116.320320</td>\n",
       "      <td>1.0</td>\n",
       "      <td>1.00</td>\n",
       "      <td>2.0</td>\n",
       "      <td>3.00</td>\n",
       "      <td>2000.0</td>\n",
       "    </tr>\n",
       "  </tbody>\n",
       "</table>\n",
       "</div>"
      ],
      "text/plain": [
       "               count       mean           std    min      25%     50%  \\\n",
       "order_id      5000.0  2500.5000   1443.520003    1.0  1250.75  2500.5   \n",
       "shop_id       5000.0    50.0788     29.006118    1.0    24.00    50.0   \n",
       "user_id       5000.0   849.0924     87.798982  607.0   775.00   849.0   \n",
       "order_amount  5000.0  3145.1280  41282.539349   90.0   163.00   284.0   \n",
       "total_items   5000.0     8.7872    116.320320    1.0     1.00     2.0   \n",
       "\n",
       "                  75%       max  \n",
       "order_id      3750.25    5000.0  \n",
       "shop_id         75.00     100.0  \n",
       "user_id        925.00     999.0  \n",
       "order_amount   390.00  704000.0  \n",
       "total_items      3.00    2000.0  "
      ]
     },
     "execution_count": 4,
     "metadata": {},
     "output_type": "execute_result"
    }
   ],
   "source": [
    "df.describe().T"
   ]
  },
  {
   "cell_type": "code",
   "execution_count": 5,
   "id": "2b08dc18",
   "metadata": {},
   "outputs": [
    {
     "data": {
      "text/plain": [
       "3145.128"
      ]
     },
     "execution_count": 5,
     "metadata": {},
     "output_type": "execute_result"
    }
   ],
   "source": [
    "df.order_amount.mean()"
   ]
  },
  {
   "cell_type": "code",
   "execution_count": 51,
   "id": "32b407f1",
   "metadata": {},
   "outputs": [
    {
     "data": {
      "text/plain": [
       "100"
      ]
     },
     "execution_count": 51,
     "metadata": {},
     "output_type": "execute_result"
    }
   ],
   "source": [
    "df['shop_id'].nunique()"
   ]
  },
  {
   "cell_type": "markdown",
   "id": "3c622bcb",
   "metadata": {},
   "source": [
    ">Indeed our mean order amount is $3145.13. I continue to  explore the data to understand the reason with the aid of  some visualizations. We also observe a median amount of 284.0. I also confirm that there are indeed a 100 different shops"
   ]
  },
  {
   "cell_type": "markdown",
   "id": "a80f87fd",
   "metadata": {},
   "source": [
    "> **Data Exploration**\n",
    "\n",
    "> Below I take another look at the the columns in dataset to understand what they each mean. Below is an explantion of each field means.\n",
    "\n",
    "> **order_id :**  An ID filed that distinguish each ORDER form another. <br>\n",
    "> **shop_id :**   An ID filed that distinguish each SHOP form another. <br>\n",
    "> **user_id :**   An ID filed that distinguish each USER form another.<br>\n",
    "> **order_amount :**   The exact amount USER paid for an order<br>\n",
    "> **total_items :**   The total quantity of SHOES customer bought in one order<br>\n",
    "> **payment_method :**   The method of payment customer used for that order  <br>\n",
    "> **created_at :**   The exact time and day the order tookplace <br>\n",
    "\n"
   ]
  },
  {
   "cell_type": "code",
   "execution_count": 6,
   "id": "c442b017",
   "metadata": {},
   "outputs": [
    {
     "data": {
      "text/html": [
       "<div>\n",
       "<style scoped>\n",
       "    .dataframe tbody tr th:only-of-type {\n",
       "        vertical-align: middle;\n",
       "    }\n",
       "\n",
       "    .dataframe tbody tr th {\n",
       "        vertical-align: top;\n",
       "    }\n",
       "\n",
       "    .dataframe thead th {\n",
       "        text-align: right;\n",
       "    }\n",
       "</style>\n",
       "<table border=\"1\" class=\"dataframe\">\n",
       "  <thead>\n",
       "    <tr style=\"text-align: right;\">\n",
       "      <th></th>\n",
       "      <th>order_id</th>\n",
       "      <th>shop_id</th>\n",
       "      <th>user_id</th>\n",
       "      <th>order_amount</th>\n",
       "      <th>total_items</th>\n",
       "      <th>payment_method</th>\n",
       "      <th>created_at</th>\n",
       "    </tr>\n",
       "  </thead>\n",
       "  <tbody>\n",
       "    <tr>\n",
       "      <th>0</th>\n",
       "      <td>1</td>\n",
       "      <td>53</td>\n",
       "      <td>746</td>\n",
       "      <td>224</td>\n",
       "      <td>2</td>\n",
       "      <td>cash</td>\n",
       "      <td>2017-03-13 12:36:56</td>\n",
       "    </tr>\n",
       "    <tr>\n",
       "      <th>1</th>\n",
       "      <td>2</td>\n",
       "      <td>92</td>\n",
       "      <td>925</td>\n",
       "      <td>90</td>\n",
       "      <td>1</td>\n",
       "      <td>cash</td>\n",
       "      <td>2017-03-03 17:38:52</td>\n",
       "    </tr>\n",
       "  </tbody>\n",
       "</table>\n",
       "</div>"
      ],
      "text/plain": [
       "   order_id  shop_id  user_id  order_amount  total_items payment_method  \\\n",
       "0         1       53      746           224            2           cash   \n",
       "1         2       92      925            90            1           cash   \n",
       "\n",
       "            created_at  \n",
       "0  2017-03-13 12:36:56  \n",
       "1  2017-03-03 17:38:52  "
      ]
     },
     "execution_count": 6,
     "metadata": {},
     "output_type": "execute_result"
    }
   ],
   "source": [
    "df.head(2)"
   ]
  },
  {
   "cell_type": "markdown",
   "id": "b17f6dc4",
   "metadata": {},
   "source": [
    "> I observed the **order_amount** field represents the total amount paid for all the items in a particular order therefore I calculate the amount per shoe for each order "
   ]
  },
  {
   "cell_type": "code",
   "execution_count": 7,
   "id": "e1fff7d2",
   "metadata": {},
   "outputs": [],
   "source": [
    "df[\"amount_per_shoe\"]= df.order_amount/df.total_items"
   ]
  },
  {
   "cell_type": "code",
   "execution_count": 8,
   "id": "4e6926dc",
   "metadata": {},
   "outputs": [
    {
     "data": {
      "text/html": [
       "<div>\n",
       "<style scoped>\n",
       "    .dataframe tbody tr th:only-of-type {\n",
       "        vertical-align: middle;\n",
       "    }\n",
       "\n",
       "    .dataframe tbody tr th {\n",
       "        vertical-align: top;\n",
       "    }\n",
       "\n",
       "    .dataframe thead th {\n",
       "        text-align: right;\n",
       "    }\n",
       "</style>\n",
       "<table border=\"1\" class=\"dataframe\">\n",
       "  <thead>\n",
       "    <tr style=\"text-align: right;\">\n",
       "      <th></th>\n",
       "      <th>order_id</th>\n",
       "      <th>shop_id</th>\n",
       "      <th>user_id</th>\n",
       "      <th>order_amount</th>\n",
       "      <th>total_items</th>\n",
       "      <th>payment_method</th>\n",
       "      <th>created_at</th>\n",
       "      <th>amount_per_shoe</th>\n",
       "    </tr>\n",
       "  </thead>\n",
       "  <tbody>\n",
       "    <tr>\n",
       "      <th>0</th>\n",
       "      <td>1</td>\n",
       "      <td>53</td>\n",
       "      <td>746</td>\n",
       "      <td>224</td>\n",
       "      <td>2</td>\n",
       "      <td>cash</td>\n",
       "      <td>2017-03-13 12:36:56</td>\n",
       "      <td>112.0</td>\n",
       "    </tr>\n",
       "    <tr>\n",
       "      <th>1</th>\n",
       "      <td>2</td>\n",
       "      <td>92</td>\n",
       "      <td>925</td>\n",
       "      <td>90</td>\n",
       "      <td>1</td>\n",
       "      <td>cash</td>\n",
       "      <td>2017-03-03 17:38:52</td>\n",
       "      <td>90.0</td>\n",
       "    </tr>\n",
       "  </tbody>\n",
       "</table>\n",
       "</div>"
      ],
      "text/plain": [
       "   order_id  shop_id  user_id  order_amount  total_items payment_method  \\\n",
       "0         1       53      746           224            2           cash   \n",
       "1         2       92      925            90            1           cash   \n",
       "\n",
       "            created_at  amount_per_shoe  \n",
       "0  2017-03-13 12:36:56            112.0  \n",
       "1  2017-03-03 17:38:52             90.0  "
      ]
     },
     "execution_count": 8,
     "metadata": {},
     "output_type": "execute_result"
    }
   ],
   "source": [
    "df.head(2)"
   ]
  },
  {
   "cell_type": "markdown",
   "id": "c0eedd6d",
   "metadata": {},
   "source": [
    "**Data Visualization**\n",
    "> Now with the additional field I explore the data with the aid of visualizations.\n"
   ]
  },
  {
   "cell_type": "code",
   "execution_count": 62,
   "id": "3f2db5e3",
   "metadata": {},
   "outputs": [
    {
     "data": {
      "image/png": "[encoded data removed]",
      "text/plain": [
       "<Figure size 720x288 with 1 Axes>"
      ]
     },
     "metadata": {
      "needs_background": "light"
     },
     "output_type": "display_data"
    }
   ],
   "source": [
    "plt.figure(figsize=( 10,4))\n",
    "plt.title(\"fg1: Order_Amount VS Shop_ID\",fontsize=20,loc=\"left\")\n",
    "g=sns.scatterplot(data=df,x= \"shop_id\" ,y= \"order_amount\")\n",
    "plt.show()"
   ]
  },
  {
   "cell_type": "code",
   "execution_count": 46,
   "id": "d00d46ba",
   "metadata": {},
   "outputs": [
    {
     "data": {
      "image/png": "[encoded data removed]",
      "text/plain": [
       "<Figure size 720x288 with 1 Axes>"
      ]
     },
     "metadata": {
      "needs_background": "light"
     },
     "output_type": "display_data"
    }
   ],
   "source": [
    "plt.figure(figsize=( 10,4))\n",
    "plt.title(\"fg2: Total Items VS Shop_ID\",fontsize=20,loc=\"left\")\n",
    "sns.scatterplot(data=df,x= \"shop_id\" ,y= \"total_items\")\n",
    "plt.show()"
   ]
  },
  {
   "cell_type": "code",
   "execution_count": 52,
   "id": "cb311b67",
   "metadata": {},
   "outputs": [
    {
     "data": {
      "image/png": "[encoded data removed]",
      "text/plain": [
       "<Figure size 720x288 with 1 Axes>"
      ]
     },
     "metadata": {
      "needs_background": "light"
     },
     "output_type": "display_data"
    }
   ],
   "source": [
    "plt.figure(figsize=( 10,4))\n",
    "plt.title(\"fg3: Amount Per Shoe  VS Shop_ID\",fontsize=20,loc=\"left\")\n",
    "sns.scatterplot(data=df,x= \"shop_id\" ,y= \"amount_per_shoe\")\n",
    "plt.show()"
   ]
  },
  {
   "cell_type": "markdown",
   "id": "d8b2f637",
   "metadata": {},
   "source": [
    ">From **fg1** we observe that while most shops have almost the same order amount some shops have some shops observed extreme figures. <br>\n",
    ">From **fg2** we observe that while most shops have almost the same order amount some shops have some extreme figures. <br>\n",
    ">From **fg3** we observe that while most shops have almost the same order amount some shops have some extreme figures. <br>\n"
   ]
  },
  {
   "cell_type": "code",
   "execution_count": 28,
   "id": "884e8414",
   "metadata": {},
   "outputs": [
    {
     "data": {
      "text/plain": [
       "153.0"
      ]
     },
     "execution_count": 28,
     "metadata": {},
     "output_type": "execute_result"
    }
   ],
   "source": [
    "df.amount_per_shoe.median()"
   ]
  },
  {
   "cell_type": "markdown",
   "id": "075b017c",
   "metadata": {},
   "source": [
    "### Conclusion \n",
    "\n",
    "There are no missing values\n",
    "There are no duplicates\n",
    "There are 2 outliers: user id 607 and shop id 78 : These 2 are the main reasons of fraud\n",
    "Net mean of the cleaned (with no outliers) data is  302.58 $\n",
    "Here median (284) could also be used but after removing outliers, mean is a better representative of the spread"
   ]
  },
  {
   "cell_type": "markdown",
   "id": "986c415b",
   "metadata": {},
   "source": [
    "<div id=\"ch2\"></div>\n",
    "\n",
    "## Challenge 2 \n",
    "\n",
    "  \n"
   ]
  },
  {
   "cell_type": "markdown",
   "id": "1071950b",
   "metadata": {},
   "source": [
    "<div id=\"qa\"></div>\n",
    "\n",
    "**Question A**<br>\n",
    "How many orders were shipped by Speedy Express in total?<br>\n",
    "\n",
    "                 \n",
    "**Answer :** A total of 54 orders were shipped by Speedy Express<br>\n",
    "\n",
    "**Querry** <br>\n",
    "SELECT count(*) AS NumOrders FROM Orders<br>\n",
    "where ShipperID in (SELECT ShipperID FROM Shippers<br>\n",
    "\t\t\t\t\twhere ShipperName= 'Speedy Express' )<br>\n",
    "\n"
   ]
  },
  {
   "cell_type": "markdown",
   "id": "947a7d25",
   "metadata": {},
   "source": [
    "<div id=\"qb\"></div>\n",
    "\n",
    "**Question B**<br>\n",
    "\n",
    "What is the last name of the employee with the most orders?<br>\n",
    "\n",
    "**Answer :** The last name of the Employee with most Orders is Peacock <br>\n",
    "\n",
    "**Querry** <br>\n",
    "SELECT LastName FROM Employees as e <br>\n",
    "JOIN (SELECT * , count(EmployeeID) AS TotalOrders FROM Orders <br>\n",
    "GROUP BY EmployeeID <br>\n",
    "ORDER BY TotalOrders DESC <br>\n",
    "LIMIT 1) as j <br>\n",
    "ON e.EmployeeID = j.EmployeeID <br>\n"
   ]
  },
  {
   "cell_type": "markdown",
   "id": "add1250b",
   "metadata": {},
   "source": [
    "<div id=\"qc\"></div>\n",
    "\n",
    "**Question C**<br>\n",
    "What product was ordered the most by customers in Germany? <br>\n",
    "\n",
    "**Answer :** Boston Crab Meat was the product most customers in Germany ordered.It was ordered 256 times <br>\n",
    "\n",
    "**Querry** <br>\n",
    "SELECT ProductName FROM (SELECT *, SUM(od.Quantity) AS TotalOrders FROM OrderDetails od  <br>\n",
    "JOIN Orders o <br>\n",
    "ON od.OrderID = o.OrderID <br>\n",
    "JOIN Customers c\n",
    "ON c.CustomerID = o.CustomerID <br>\n",
    "JOIN Products p\n",
    "ON p.ProductID = od.ProductID <br>\n",
    "GROUP BY od.ProductID\n",
    "HAVING c.Country = \"Germany\" <br>\n",
    "ORDER BY TotalOrders DESC \n",
    "LIMIT 1) <br>\n",
    "\n",
    "\n",
    "\n"
   ]
  },
  {
   "cell_type": "code",
   "execution_count": null,
   "id": "565c4bdd",
   "metadata": {},
   "outputs": [],
   "source": []
  }
 ],
 "metadata": {
  "kernelspec": {
   "display_name": "Python 3",
   "language": "python",
   "name": "python3"
  },
  "language_info": {
   "codemirror_mode": {
    "name": "ipython",
    "version": 3
   },
   "file_extension": ".py",
   "mimetype": "text/x-python",
   "name": "python",
   "nbconvert_exporter": "python",
   "pygments_lexer": "ipython3",
   "version": "3.6.13"
  }
 },
 "nbformat": 4,
 "nbformat_minor": 5
}
